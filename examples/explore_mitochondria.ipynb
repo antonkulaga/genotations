{
 "cells": [
  {
   "cell_type": "code",
   "execution_count": 1,
   "id": "initial_id",
   "metadata": {
    "collapsed": true,
    "ExecuteTime": {
     "end_time": "2023-09-06T00:00:50.632103474Z",
     "start_time": "2023-09-06T00:00:50.631783420Z"
    }
   },
   "outputs": [],
   "source": [
    "from pathlib import *\n",
    "from pycomfort.files import *"
   ]
  },
  {
   "cell_type": "code",
   "execution_count": 2,
   "outputs": [
    {
     "name": "stdout",
     "output_type": "stream",
     "text": [
      "[PosixPath('/home/antonkulaga/sources/genotations/genotations'), '/home/antonkulaga/sources/genotations/examples/..', '/home/antonkulaga/.local/share/JetBrains/Toolbox/apps/IDEA-U/ch-0/232.9559.62.plugins/python/helpers-pro/jupyter_debug', '/home/antonkulaga/.local/share/JetBrains/Toolbox/apps/IDEA-U/ch-0/232.9559.62.plugins/python/helpers/pydev', '/home/antonkulaga/sources/genotations/examples', '/home/antonkulaga/sources/genotations', '/home/antonkulaga/micromamba/envs/genotations/lib/python310.zip', '/home/antonkulaga/micromamba/envs/genotations/lib/python3.10', '/home/antonkulaga/micromamba/envs/genotations/lib/python3.10/lib-dynload', '', '/home/antonkulaga/.local/lib/python3.10/site-packages', '/home/antonkulaga/micromamba/envs/genotations/lib/python3.10/site-packages']\n"
     ]
    }
   ],
   "source": [
    "import sys\n",
    "\n",
    "base = Path(\"..\")\n",
    "local = (base / \"genotations\").resolve()\n",
    "if local.exists():\n",
    "    sys.path.insert(0, Path(\"..\").absolute().as_posix())\n",
    "    sys.path.insert(0, local)\n",
    "    print(sys.path)\n",
    "else:\n",
    "    base = Path(\".\")\n",
    "%load_ext autoreload\n",
    "%autoreload 2"
   ],
   "metadata": {
    "collapsed": false,
    "ExecuteTime": {
     "end_time": "2023-09-06T00:00:50.796503588Z",
     "start_time": "2023-09-06T00:00:50.784169808Z"
    }
   },
   "id": "1f3e9d797e482da8"
  },
  {
   "cell_type": "code",
   "execution_count": 6,
   "outputs": [
    {
     "name": "stderr",
     "output_type": "stream",
     "text": [
      "03:02:27 | ERROR | assembly GCA_944319715.1 should be in assembly genomes!\n",
      "03:02:27 | ERROR | assembly GCA_944319725.1 should be in assembly genomes!\n"
     ]
    }
   ],
   "source": [
    "import polars as pl\n",
    "from genotations import genomes\n",
    "from genotations.genomes import Annotations\n",
    "from genotations import *\n",
    "from genotations import ensembl\n",
    "from genotations.quantification import *\n",
    "from genotations.genomes import *"
   ],
   "metadata": {
    "collapsed": false,
    "ExecuteTime": {
     "end_time": "2023-09-06T00:02:27.698135826Z",
     "start_time": "2023-09-06T00:02:27.210730930Z"
    }
   },
   "id": "1dac2ca0035ac603"
  },
  {
   "cell_type": "code",
   "execution_count": 7,
   "outputs": [
    {
     "data": {
      "text/plain": "polars.config.Config"
     },
     "execution_count": 7,
     "metadata": {},
     "output_type": "execute_result"
    }
   ],
   "source": [
    "pl.Config.set_tbl_width_chars(10000)\n",
    "pl.Config.set_fmt_str_lengths(1000)\n",
    "pl.Config.set_tbl_rows(20)"
   ],
   "metadata": {
    "collapsed": false,
    "ExecuteTime": {
     "end_time": "2023-09-06T00:02:30.378193040Z",
     "start_time": "2023-09-06T00:02:30.357097718Z"
    }
   },
   "id": "bd54e6bb80abcde4"
  },
  {
   "cell_type": "code",
   "execution_count": 8,
   "outputs": [],
   "source": [
    "human = ensembl.human"
   ],
   "metadata": {
    "collapsed": false,
    "ExecuteTime": {
     "end_time": "2023-09-06T00:02:31.088139773Z",
     "start_time": "2023-09-06T00:02:31.067181595Z"
    }
   },
   "id": "87b39d6be6dc123e"
  },
  {
   "cell_type": "code",
   "execution_count": 9,
   "outputs": [],
   "source": [
    "chimpanzee = ensembl.chimpanzee"
   ],
   "metadata": {
    "collapsed": false,
    "ExecuteTime": {
     "end_time": "2023-09-06T00:02:31.793413516Z",
     "start_time": "2023-09-06T00:02:31.767789351Z"
    }
   },
   "id": "47f84c5329edbc04"
  },
  {
   "cell_type": "code",
   "execution_count": 10,
   "outputs": [
    {
     "name": "stdout",
     "output_type": "stream",
     "text": [
      "Downloading the genome with annotations from Ensembl, this may take a while. The results are cached\n"
     ]
    },
    {
     "data": {
      "text/plain": "shape: (145, 18)\n┌─────────┬────────┬─────────────┬───────┬───┬────────────────────┬────────────────────┬─────────────┬─────────────────┐\n│ seqname ┆ source ┆ feature     ┆ start ┆ … ┆ transcript_biotype ┆ exon               ┆ exon_number ┆ transcript_exon │\n│ ---     ┆ ---    ┆ ---         ┆ ---   ┆   ┆ ---                ┆ ---                ┆ ---         ┆ ---             │\n│ str     ┆ str    ┆ str         ┆ u64   ┆   ┆ str                ┆ str                ┆ u64         ┆ str             │\n╞═════════╪════════╪═════════════╪═══════╪═══╪════════════════════╪════════════════════╪═════════════╪═════════════════╡\n│ MT      ┆ RefSeq ┆ gene        ┆ 1     ┆ … ┆ null               ┆ null               ┆ null        ┆ null            │\n│ MT      ┆ RefSeq ┆ transcript  ┆ 1     ┆ … ┆ Mt_tRNA            ┆ null               ┆ null        ┆ null            │\n│ MT      ┆ RefSeq ┆ exon        ┆ 1     ┆ … ┆ Mt_tRNA            ┆ ENSPTRE00000441822 ┆ 1           ┆ null            │\n│ MT      ┆ RefSeq ┆ gene        ┆ 72    ┆ … ┆ null               ┆ null               ┆ null        ┆ null            │\n│ MT      ┆ RefSeq ┆ transcript  ┆ 72    ┆ … ┆ Mt_rRNA            ┆ null               ┆ null        ┆ null            │\n│ MT      ┆ RefSeq ┆ exon        ┆ 72    ┆ … ┆ Mt_rRNA            ┆ ENSPTRE00000441806 ┆ 1           ┆ null            │\n│ MT      ┆ RefSeq ┆ gene        ┆ 1021  ┆ … ┆ null               ┆ null               ┆ null        ┆ null            │\n│ MT      ┆ RefSeq ┆ transcript  ┆ 1021  ┆ … ┆ Mt_tRNA            ┆ null               ┆ null        ┆ null            │\n│ MT      ┆ RefSeq ┆ exon        ┆ 1021  ┆ … ┆ Mt_tRNA            ┆ ENSPTRE00000441817 ┆ 1           ┆ null            │\n│ MT      ┆ RefSeq ┆ gene        ┆ 1090  ┆ … ┆ null               ┆ null               ┆ null        ┆ null            │\n│ …       ┆ …      ┆ …           ┆ …     ┆ … ┆ …                  ┆ …                  ┆ …           ┆ …               │\n│ MT      ┆ RefSeq ┆ transcript  ┆ 14165 ┆ … ┆ protein_coding     ┆ null               ┆ null        ┆ null            │\n│ MT      ┆ RefSeq ┆ exon        ┆ 14165 ┆ … ┆ protein_coding     ┆ ENSPTRE00000441814 ┆ 1           ┆ MT-CYB-201_1    │\n│ MT      ┆ RefSeq ┆ CDS         ┆ 14165 ┆ … ┆ protein_coding     ┆ null               ┆ 1           ┆ MT-CYB-201_1    │\n│ MT      ┆ RefSeq ┆ start_codon ┆ 14165 ┆ … ┆ protein_coding     ┆ null               ┆ 1           ┆ MT-CYB-201_1    │\n│ MT      ┆ RefSeq ┆ gene        ┆ 15306 ┆ … ┆ null               ┆ null               ┆ null        ┆ null            │\n│ MT      ┆ RefSeq ┆ transcript  ┆ 15306 ┆ … ┆ Mt_tRNA            ┆ null               ┆ null        ┆ null            │\n│ MT      ┆ RefSeq ┆ exon        ┆ 15306 ┆ … ┆ Mt_tRNA            ┆ ENSPTRE00000441791 ┆ 1           ┆ null            │\n│ MT      ┆ RefSeq ┆ gene        ┆ 15374 ┆ … ┆ null               ┆ null               ┆ null        ┆ null            │\n│ MT      ┆ RefSeq ┆ transcript  ┆ 15374 ┆ … ┆ Mt_tRNA            ┆ null               ┆ null        ┆ null            │\n│ MT      ┆ RefSeq ┆ exon        ┆ 15374 ┆ … ┆ Mt_tRNA            ┆ ENSPTRE00000441809 ┆ 1           ┆ null            │\n└─────────┴────────┴─────────────┴───────┴───┴────────────────────┴────────────────────┴─────────────┴─────────────────┘",
      "text/html": "<div><style>\n.dataframe > thead > tr > th,\n.dataframe > tbody > tr > td {\n  text-align: right;\n  white-space: pre-wrap;\n}\n</style>\n<small>shape: (145, 18)</small><table border=\"1\" class=\"dataframe\"><thead><tr><th>seqname</th><th>source</th><th>feature</th><th>start</th><th>end</th><th>score</th><th>strand</th><th>frame</th><th>attribute</th><th>gene</th><th>gene_name</th><th>gene_biotype</th><th>transcript</th><th>transcript_name</th><th>transcript_biotype</th><th>exon</th><th>exon_number</th><th>transcript_exon</th></tr><tr><td>str</td><td>str</td><td>str</td><td>u64</td><td>u64</td><td>str</td><td>cat</td><td>str</td><td>str</td><td>str</td><td>str</td><td>str</td><td>str</td><td>str</td><td>str</td><td>str</td><td>u64</td><td>str</td></tr></thead><tbody><tr><td>&quot;MT&quot;</td><td>&quot;RefSeq&quot;</td><td>&quot;gene&quot;</td><td>1</td><td>71</td><td>&quot;.&quot;</td><td>&quot;+&quot;</td><td>&quot;.&quot;</td><td>&quot;gene_id &quot;ENSPTRG00000042638&quot;; gene_version &quot;1&quot;; gene_source &quot;RefSeq&quot;; gene_biotype &quot;Mt_tRNA&quot;;&quot;</td><td>&quot;ENSPTRG00000042638&quot;</td><td>null</td><td>&quot;Mt_tRNA&quot;</td><td>null</td><td>null</td><td>null</td><td>null</td><td>null</td><td>null</td></tr><tr><td>&quot;MT&quot;</td><td>&quot;RefSeq&quot;</td><td>&quot;transcript&quot;</td><td>1</td><td>71</td><td>&quot;.&quot;</td><td>&quot;+&quot;</td><td>&quot;.&quot;</td><td>&quot;gene_id &quot;ENSPTRG00000042638&quot;; gene_version &quot;1&quot;; transcript_id &quot;ENSPTRT00000076395&quot;; transcript_version &quot;1&quot;; gene_source &quot;RefSeq&quot;; gene_biotype &quot;Mt_tRNA&quot;; transcript_source &quot;RefSeq&quot;; transcript_biotype &quot;Mt_tRNA&quot;; tag &quot;Ensembl_canonical&quot;;&quot;</td><td>&quot;ENSPTRG00000042638&quot;</td><td>null</td><td>&quot;Mt_tRNA&quot;</td><td>&quot;ENSPTRT00000076395&quot;</td><td>null</td><td>&quot;Mt_tRNA&quot;</td><td>null</td><td>null</td><td>null</td></tr><tr><td>&quot;MT&quot;</td><td>&quot;RefSeq&quot;</td><td>&quot;exon&quot;</td><td>1</td><td>71</td><td>&quot;.&quot;</td><td>&quot;+&quot;</td><td>&quot;.&quot;</td><td>&quot;gene_id &quot;ENSPTRG00000042638&quot;; gene_version &quot;1&quot;; transcript_id &quot;ENSPTRT00000076395&quot;; transcript_version &quot;1&quot;; exon_number &quot;1&quot;; gene_source &quot;RefSeq&quot;; gene_biotype &quot;Mt_tRNA&quot;; transcript_source &quot;RefSeq&quot;; transcript_biotype &quot;Mt_tRNA&quot;; exon_id &quot;ENSPTRE00000441822&quot;; exon_version &quot;1&quot;; tag &quot;Ensembl_canonical&quot;;&quot;</td><td>&quot;ENSPTRG00000042638&quot;</td><td>null</td><td>&quot;Mt_tRNA&quot;</td><td>&quot;ENSPTRT00000076395&quot;</td><td>null</td><td>&quot;Mt_tRNA&quot;</td><td>&quot;ENSPTRE00000441822&quot;</td><td>1</td><td>null</td></tr><tr><td>&quot;MT&quot;</td><td>&quot;RefSeq&quot;</td><td>&quot;gene&quot;</td><td>72</td><td>1020</td><td>&quot;.&quot;</td><td>&quot;+&quot;</td><td>&quot;.&quot;</td><td>&quot;gene_id &quot;ENSPTRG00000042646&quot;; gene_version &quot;1&quot;; gene_source &quot;RefSeq&quot;; gene_biotype &quot;Mt_rRNA&quot;;&quot;</td><td>&quot;ENSPTRG00000042646&quot;</td><td>null</td><td>&quot;Mt_rRNA&quot;</td><td>null</td><td>null</td><td>null</td><td>null</td><td>null</td><td>null</td></tr><tr><td>&quot;MT&quot;</td><td>&quot;RefSeq&quot;</td><td>&quot;transcript&quot;</td><td>72</td><td>1020</td><td>&quot;.&quot;</td><td>&quot;+&quot;</td><td>&quot;.&quot;</td><td>&quot;gene_id &quot;ENSPTRG00000042646&quot;; gene_version &quot;1&quot;; transcript_id &quot;ENSPTRT00000076407&quot;; transcript_version &quot;1&quot;; gene_source &quot;RefSeq&quot;; gene_biotype &quot;Mt_rRNA&quot;; transcript_source &quot;RefSeq&quot;; transcript_biotype &quot;Mt_rRNA&quot;; tag &quot;Ensembl_canonical&quot;;&quot;</td><td>&quot;ENSPTRG00000042646&quot;</td><td>null</td><td>&quot;Mt_rRNA&quot;</td><td>&quot;ENSPTRT00000076407&quot;</td><td>null</td><td>&quot;Mt_rRNA&quot;</td><td>null</td><td>null</td><td>null</td></tr><tr><td>&quot;MT&quot;</td><td>&quot;RefSeq&quot;</td><td>&quot;exon&quot;</td><td>72</td><td>1020</td><td>&quot;.&quot;</td><td>&quot;+&quot;</td><td>&quot;.&quot;</td><td>&quot;gene_id &quot;ENSPTRG00000042646&quot;; gene_version &quot;1&quot;; transcript_id &quot;ENSPTRT00000076407&quot;; transcript_version &quot;1&quot;; exon_number &quot;1&quot;; gene_source &quot;RefSeq&quot;; gene_biotype &quot;Mt_rRNA&quot;; transcript_source &quot;RefSeq&quot;; transcript_biotype &quot;Mt_rRNA&quot;; exon_id &quot;ENSPTRE00000441806&quot;; exon_version &quot;1&quot;; tag &quot;Ensembl_canonical&quot;;&quot;</td><td>&quot;ENSPTRG00000042646&quot;</td><td>null</td><td>&quot;Mt_rRNA&quot;</td><td>&quot;ENSPTRT00000076407&quot;</td><td>null</td><td>&quot;Mt_rRNA&quot;</td><td>&quot;ENSPTRE00000441806&quot;</td><td>1</td><td>null</td></tr><tr><td>&quot;MT&quot;</td><td>&quot;RefSeq&quot;</td><td>&quot;gene&quot;</td><td>1021</td><td>1089</td><td>&quot;.&quot;</td><td>&quot;+&quot;</td><td>&quot;.&quot;</td><td>&quot;gene_id &quot;ENSPTRG00000042654&quot;; gene_version &quot;1&quot;; gene_source &quot;RefSeq&quot;; gene_biotype &quot;Mt_tRNA&quot;;&quot;</td><td>&quot;ENSPTRG00000042654&quot;</td><td>null</td><td>&quot;Mt_tRNA&quot;</td><td>null</td><td>null</td><td>null</td><td>null</td><td>null</td><td>null</td></tr><tr><td>&quot;MT&quot;</td><td>&quot;RefSeq&quot;</td><td>&quot;transcript&quot;</td><td>1021</td><td>1089</td><td>&quot;.&quot;</td><td>&quot;+&quot;</td><td>&quot;.&quot;</td><td>&quot;gene_id &quot;ENSPTRG00000042654&quot;; gene_version &quot;1&quot;; transcript_id &quot;ENSPTRT00000076381&quot;; transcript_version &quot;1&quot;; gene_source &quot;RefSeq&quot;; gene_biotype &quot;Mt_tRNA&quot;; transcript_source &quot;RefSeq&quot;; transcript_biotype &quot;Mt_tRNA&quot;; tag &quot;Ensembl_canonical&quot;;&quot;</td><td>&quot;ENSPTRG00000042654&quot;</td><td>null</td><td>&quot;Mt_tRNA&quot;</td><td>&quot;ENSPTRT00000076381&quot;</td><td>null</td><td>&quot;Mt_tRNA&quot;</td><td>null</td><td>null</td><td>null</td></tr><tr><td>&quot;MT&quot;</td><td>&quot;RefSeq&quot;</td><td>&quot;exon&quot;</td><td>1021</td><td>1089</td><td>&quot;.&quot;</td><td>&quot;+&quot;</td><td>&quot;.&quot;</td><td>&quot;gene_id &quot;ENSPTRG00000042654&quot;; gene_version &quot;1&quot;; transcript_id &quot;ENSPTRT00000076381&quot;; transcript_version &quot;1&quot;; exon_number &quot;1&quot;; gene_source &quot;RefSeq&quot;; gene_biotype &quot;Mt_tRNA&quot;; transcript_source &quot;RefSeq&quot;; transcript_biotype &quot;Mt_tRNA&quot;; exon_id &quot;ENSPTRE00000441817&quot;; exon_version &quot;1&quot;; tag &quot;Ensembl_canonical&quot;;&quot;</td><td>&quot;ENSPTRG00000042654&quot;</td><td>null</td><td>&quot;Mt_tRNA&quot;</td><td>&quot;ENSPTRT00000076381&quot;</td><td>null</td><td>&quot;Mt_tRNA&quot;</td><td>&quot;ENSPTRE00000441817&quot;</td><td>1</td><td>null</td></tr><tr><td>&quot;MT&quot;</td><td>&quot;RefSeq&quot;</td><td>&quot;gene&quot;</td><td>1090</td><td>2647</td><td>&quot;.&quot;</td><td>&quot;+&quot;</td><td>&quot;.&quot;</td><td>&quot;gene_id &quot;ENSPTRG00000042645&quot;; gene_version &quot;1&quot;; gene_source &quot;RefSeq&quot;; gene_biotype &quot;Mt_rRNA&quot;;&quot;</td><td>&quot;ENSPTRG00000042645&quot;</td><td>null</td><td>&quot;Mt_rRNA&quot;</td><td>null</td><td>null</td><td>null</td><td>null</td><td>null</td><td>null</td></tr><tr><td>&hellip;</td><td>&hellip;</td><td>&hellip;</td><td>&hellip;</td><td>&hellip;</td><td>&hellip;</td><td>&hellip;</td><td>&hellip;</td><td>&hellip;</td><td>&hellip;</td><td>&hellip;</td><td>&hellip;</td><td>&hellip;</td><td>&hellip;</td><td>&hellip;</td><td>&hellip;</td><td>&hellip;</td><td>&hellip;</td></tr><tr><td>&quot;MT&quot;</td><td>&quot;RefSeq&quot;</td><td>&quot;transcript&quot;</td><td>14165</td><td>15305</td><td>&quot;.&quot;</td><td>&quot;+&quot;</td><td>&quot;.&quot;</td><td>&quot;gene_id &quot;ENSPTRG00000042637&quot;; gene_version &quot;1&quot;; transcript_id &quot;ENSPTRT00000076383&quot;; transcript_version &quot;1&quot;; gene_name &quot;MT-CYB&quot;; gene_source &quot;RefSeq&quot;; gene_biotype &quot;protein_coding&quot;; transcript_name &quot;MT-CYB-201&quot;; transcript_source &quot;RefSeq&quot;; transcript_biotype &quot;protein_coding&quot;; tag &quot;Ensembl_canonical&quot;;&quot;</td><td>&quot;ENSPTRG00000042637&quot;</td><td>&quot;MT-CYB&quot;</td><td>&quot;protein_coding&quot;</td><td>&quot;ENSPTRT00000076383&quot;</td><td>&quot;MT-CYB-201&quot;</td><td>&quot;protein_coding&quot;</td><td>null</td><td>null</td><td>null</td></tr><tr><td>&quot;MT&quot;</td><td>&quot;RefSeq&quot;</td><td>&quot;exon&quot;</td><td>14165</td><td>15305</td><td>&quot;.&quot;</td><td>&quot;+&quot;</td><td>&quot;.&quot;</td><td>&quot;gene_id &quot;ENSPTRG00000042637&quot;; gene_version &quot;1&quot;; transcript_id &quot;ENSPTRT00000076383&quot;; transcript_version &quot;1&quot;; exon_number &quot;1&quot;; gene_name &quot;MT-CYB&quot;; gene_source &quot;RefSeq&quot;; gene_biotype &quot;protein_coding&quot;; transcript_name &quot;MT-CYB-201&quot;; transcript_source &quot;RefSeq&quot;; transcript_biotype &quot;protein_coding&quot;; exon_id &quot;ENSPTRE00000441814&quot;; exon_version &quot;1&quot;; tag &quot;Ensembl_canonical&quot;;&quot;</td><td>&quot;ENSPTRG00000042637&quot;</td><td>&quot;MT-CYB&quot;</td><td>&quot;protein_coding&quot;</td><td>&quot;ENSPTRT00000076383&quot;</td><td>&quot;MT-CYB-201&quot;</td><td>&quot;protein_coding&quot;</td><td>&quot;ENSPTRE00000441814&quot;</td><td>1</td><td>&quot;MT-CYB-201_1&quot;</td></tr><tr><td>&quot;MT&quot;</td><td>&quot;RefSeq&quot;</td><td>&quot;CDS&quot;</td><td>14165</td><td>15305</td><td>&quot;.&quot;</td><td>&quot;+&quot;</td><td>&quot;0&quot;</td><td>&quot;gene_id &quot;ENSPTRG00000042637&quot;; gene_version &quot;1&quot;; transcript_id &quot;ENSPTRT00000076383&quot;; transcript_version &quot;1&quot;; exon_number &quot;1&quot;; gene_name &quot;MT-CYB&quot;; gene_source &quot;RefSeq&quot;; gene_biotype &quot;protein_coding&quot;; transcript_name &quot;MT-CYB-201&quot;; transcript_source &quot;RefSeq&quot;; transcript_biotype &quot;protein_coding&quot;; protein_id &quot;ENSPTRP00000061405&quot;; protein_version &quot;1&quot;; tag &quot;Ensembl_canonical&quot;;&quot;</td><td>&quot;ENSPTRG00000042637&quot;</td><td>&quot;MT-CYB&quot;</td><td>&quot;protein_coding&quot;</td><td>&quot;ENSPTRT00000076383&quot;</td><td>&quot;MT-CYB-201&quot;</td><td>&quot;protein_coding&quot;</td><td>null</td><td>1</td><td>&quot;MT-CYB-201_1&quot;</td></tr><tr><td>&quot;MT&quot;</td><td>&quot;RefSeq&quot;</td><td>&quot;start_codon&quot;</td><td>14165</td><td>14167</td><td>&quot;.&quot;</td><td>&quot;+&quot;</td><td>&quot;0&quot;</td><td>&quot;gene_id &quot;ENSPTRG00000042637&quot;; gene_version &quot;1&quot;; transcript_id &quot;ENSPTRT00000076383&quot;; transcript_version &quot;1&quot;; exon_number &quot;1&quot;; gene_name &quot;MT-CYB&quot;; gene_source &quot;RefSeq&quot;; gene_biotype &quot;protein_coding&quot;; transcript_name &quot;MT-CYB-201&quot;; transcript_source &quot;RefSeq&quot;; transcript_biotype &quot;protein_coding&quot;; tag &quot;Ensembl_canonical&quot;;&quot;</td><td>&quot;ENSPTRG00000042637&quot;</td><td>&quot;MT-CYB&quot;</td><td>&quot;protein_coding&quot;</td><td>&quot;ENSPTRT00000076383&quot;</td><td>&quot;MT-CYB-201&quot;</td><td>&quot;protein_coding&quot;</td><td>null</td><td>1</td><td>&quot;MT-CYB-201_1&quot;</td></tr><tr><td>&quot;MT&quot;</td><td>&quot;RefSeq&quot;</td><td>&quot;gene&quot;</td><td>15306</td><td>15371</td><td>&quot;.&quot;</td><td>&quot;+&quot;</td><td>&quot;.&quot;</td><td>&quot;gene_id &quot;ENSPTRG00000042658&quot;; gene_version &quot;1&quot;; gene_source &quot;RefSeq&quot;; gene_biotype &quot;Mt_tRNA&quot;;&quot;</td><td>&quot;ENSPTRG00000042658&quot;</td><td>null</td><td>&quot;Mt_tRNA&quot;</td><td>null</td><td>null</td><td>null</td><td>null</td><td>null</td><td>null</td></tr><tr><td>&quot;MT&quot;</td><td>&quot;RefSeq&quot;</td><td>&quot;transcript&quot;</td><td>15306</td><td>15371</td><td>&quot;.&quot;</td><td>&quot;+&quot;</td><td>&quot;.&quot;</td><td>&quot;gene_id &quot;ENSPTRG00000042658&quot;; gene_version &quot;1&quot;; transcript_id &quot;ENSPTRT00000076374&quot;; transcript_version &quot;1&quot;; gene_source &quot;RefSeq&quot;; gene_biotype &quot;Mt_tRNA&quot;; transcript_source &quot;RefSeq&quot;; transcript_biotype &quot;Mt_tRNA&quot;; tag &quot;Ensembl_canonical&quot;;&quot;</td><td>&quot;ENSPTRG00000042658&quot;</td><td>null</td><td>&quot;Mt_tRNA&quot;</td><td>&quot;ENSPTRT00000076374&quot;</td><td>null</td><td>&quot;Mt_tRNA&quot;</td><td>null</td><td>null</td><td>null</td></tr><tr><td>&quot;MT&quot;</td><td>&quot;RefSeq&quot;</td><td>&quot;exon&quot;</td><td>15306</td><td>15371</td><td>&quot;.&quot;</td><td>&quot;+&quot;</td><td>&quot;.&quot;</td><td>&quot;gene_id &quot;ENSPTRG00000042658&quot;; gene_version &quot;1&quot;; transcript_id &quot;ENSPTRT00000076374&quot;; transcript_version &quot;1&quot;; exon_number &quot;1&quot;; gene_source &quot;RefSeq&quot;; gene_biotype &quot;Mt_tRNA&quot;; transcript_source &quot;RefSeq&quot;; transcript_biotype &quot;Mt_tRNA&quot;; exon_id &quot;ENSPTRE00000441791&quot;; exon_version &quot;1&quot;; tag &quot;Ensembl_canonical&quot;;&quot;</td><td>&quot;ENSPTRG00000042658&quot;</td><td>null</td><td>&quot;Mt_tRNA&quot;</td><td>&quot;ENSPTRT00000076374&quot;</td><td>null</td><td>&quot;Mt_tRNA&quot;</td><td>&quot;ENSPTRE00000441791&quot;</td><td>1</td><td>null</td></tr><tr><td>&quot;MT&quot;</td><td>&quot;RefSeq&quot;</td><td>&quot;gene&quot;</td><td>15374</td><td>15441</td><td>&quot;.&quot;</td><td>&quot;-&quot;</td><td>&quot;.&quot;</td><td>&quot;gene_id &quot;ENSPTRG00000042640&quot;; gene_version &quot;1&quot;; gene_source &quot;RefSeq&quot;; gene_biotype &quot;Mt_tRNA&quot;;&quot;</td><td>&quot;ENSPTRG00000042640&quot;</td><td>null</td><td>&quot;Mt_tRNA&quot;</td><td>null</td><td>null</td><td>null</td><td>null</td><td>null</td><td>null</td></tr><tr><td>&quot;MT&quot;</td><td>&quot;RefSeq&quot;</td><td>&quot;transcript&quot;</td><td>15374</td><td>15441</td><td>&quot;.&quot;</td><td>&quot;-&quot;</td><td>&quot;.&quot;</td><td>&quot;gene_id &quot;ENSPTRG00000042640&quot;; gene_version &quot;1&quot;; transcript_id &quot;ENSPTRT00000076399&quot;; transcript_version &quot;1&quot;; gene_source &quot;RefSeq&quot;; gene_biotype &quot;Mt_tRNA&quot;; transcript_source &quot;RefSeq&quot;; transcript_biotype &quot;Mt_tRNA&quot;; tag &quot;Ensembl_canonical&quot;;&quot;</td><td>&quot;ENSPTRG00000042640&quot;</td><td>null</td><td>&quot;Mt_tRNA&quot;</td><td>&quot;ENSPTRT00000076399&quot;</td><td>null</td><td>&quot;Mt_tRNA&quot;</td><td>null</td><td>null</td><td>null</td></tr><tr><td>&quot;MT&quot;</td><td>&quot;RefSeq&quot;</td><td>&quot;exon&quot;</td><td>15374</td><td>15441</td><td>&quot;.&quot;</td><td>&quot;-&quot;</td><td>&quot;.&quot;</td><td>&quot;gene_id &quot;ENSPTRG00000042640&quot;; gene_version &quot;1&quot;; transcript_id &quot;ENSPTRT00000076399&quot;; transcript_version &quot;1&quot;; exon_number &quot;1&quot;; gene_source &quot;RefSeq&quot;; gene_biotype &quot;Mt_tRNA&quot;; transcript_source &quot;RefSeq&quot;; transcript_biotype &quot;Mt_tRNA&quot;; exon_id &quot;ENSPTRE00000441809&quot;; exon_version &quot;1&quot;; tag &quot;Ensembl_canonical&quot;;&quot;</td><td>&quot;ENSPTRG00000042640&quot;</td><td>null</td><td>&quot;Mt_tRNA&quot;</td><td>&quot;ENSPTRT00000076399&quot;</td><td>null</td><td>&quot;Mt_tRNA&quot;</td><td>&quot;ENSPTRE00000441809&quot;</td><td>1</td><td>null</td></tr></tbody></table></div>"
     },
     "execution_count": 10,
     "metadata": {},
     "output_type": "execute_result"
    }
   ],
   "source": [
    "chimpanzee.annotations.mitochondrial().annotations_df"
   ],
   "metadata": {
    "collapsed": false,
    "ExecuteTime": {
     "end_time": "2023-09-06T00:02:37.972674348Z",
     "start_time": "2023-09-06T00:02:33.079289162Z"
    }
   },
   "id": "4dc51d36a272cd5c"
  },
  {
   "cell_type": "code",
   "execution_count": null,
   "outputs": [
    {
     "name": "stdout",
     "output_type": "stream",
     "text": [
      "Downloading the genome with annotations from Ensembl, this may take a while. The results are cached\n"
     ]
    },
    {
     "name": "stderr",
     "output_type": "stream",
     "text": [
      "03:02:53 | INFO | Downloading genome from Ensembl. Target URL: http://ftp.ensembl.org/pub/release-110/fasta/homo_sapiens/dna/Homo_sapiens.GRCh38.dna_sm.primary_assembly.fa.gz...\n",
      "Download:  35%|███▍      | 314M/899M [00:20<00:32, 18.6MB/s] "
     ]
    }
   ],
   "source": [
    "human.annotations.mitochondrial().annotations_df"
   ],
   "metadata": {
    "collapsed": false,
    "is_executing": true,
    "ExecuteTime": {
     "start_time": "2023-09-06T00:02:49.773097190Z"
    }
   },
   "id": "aeae01cc8f522bd7"
  },
  {
   "cell_type": "code",
   "execution_count": null,
   "outputs": [],
   "source": [
    "chimpanzee.genome.annotation_gtf_file"
   ],
   "metadata": {
    "collapsed": false,
    "ExecuteTime": {
     "start_time": "2023-09-05T23:42:07.652497166Z"
    }
   },
   "id": "d8c2d705f97d9607"
  },
  {
   "cell_type": "code",
   "execution_count": null,
   "outputs": [],
   "source": [],
   "metadata": {
    "collapsed": false
   },
   "id": "499ee96ebc107cd5"
  }
 ],
 "metadata": {
  "kernelspec": {
   "display_name": "Python 3",
   "language": "python",
   "name": "python3"
  },
  "language_info": {
   "codemirror_mode": {
    "name": "ipython",
    "version": 2
   },
   "file_extension": ".py",
   "mimetype": "text/x-python",
   "name": "python",
   "nbconvert_exporter": "python",
   "pygments_lexer": "ipython2",
   "version": "2.7.6"
  }
 },
 "nbformat": 4,
 "nbformat_minor": 5
}
